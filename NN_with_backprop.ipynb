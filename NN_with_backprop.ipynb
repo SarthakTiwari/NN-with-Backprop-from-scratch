{
  "nbformat": 4,
  "nbformat_minor": 0,
  "metadata": {
    "colab": {
      "name": "NN_with_backprop.ipynb",
      "provenance": [],
      "collapsed_sections": []
    },
    "kernelspec": {
      "name": "python3",
      "display_name": "Python 3"
    }
  },
  "cells": [
    {
      "cell_type": "markdown",
      "metadata": {
        "id": "fY2E05MgZwMm"
      },
      "source": [
        "**Dependencies**"
      ]
    },
    {
      "cell_type": "code",
      "metadata": {
        "id": "ZHfSrL3hYL-J"
      },
      "source": [
        "import numpy as np\r\n",
        "import pandas as pd\r\n",
        "from matplotlib import pyplot # for mnist image visualization\r\n",
        "%matplotlib inline"
      ],
      "execution_count": 3,
      "outputs": []
    },
    {
      "cell_type": "code",
      "metadata": {
        "id": "pOsiZB1Sqvm_"
      },
      "source": [
        "np.random.seed(42)"
      ],
      "execution_count": 41,
      "outputs": []
    },
    {
      "cell_type": "markdown",
      "metadata": {
        "id": "PFDlPyKT_rLl"
      },
      "source": [
        "**Loading Dataset **"
      ]
    },
    {
      "cell_type": "code",
      "metadata": {
        "id": "lzkPma21ZI3_"
      },
      "source": [
        "df =pd.read_csv(r\"Dataset/train.csv\")"
      ],
      "execution_count": 4,
      "outputs": []
    },
    {
      "cell_type": "code",
      "metadata": {
        "id": "BZciBdNJhLyi"
      },
      "source": [
        "test=pd.read_csv(r\"Dataset/test.csv\")"
      ],
      "execution_count": 48,
      "outputs": []
    },
    {
      "cell_type": "markdown",
      "metadata": {
        "id": "I7Lizp3l_uUJ"
      },
      "source": [
        "**Separating features and label**"
      ]
    },
    {
      "cell_type": "code",
      "metadata": {
        "id": "vg3U-KavZRbm"
      },
      "source": [
        "features=df.iloc[:,1:]/255\r\n",
        "labels=df.iloc[:,0]"
      ],
      "execution_count": 6,
      "outputs": []
    },
    {
      "cell_type": "markdown",
      "metadata": {
        "id": "PPIibj-i_1Ko"
      },
      "source": [
        "**Image Viz**"
      ]
    },
    {
      "cell_type": "code",
      "metadata": {
        "colab": {
          "base_uri": "https://localhost:8080/",
          "height": 479
        },
        "id": "1b-N20OuZVcO",
        "outputId": "5b4bd0d8-0f1d-47c6-cc54-5d43bc6283fe"
      },
      "source": [
        "for i in range(2):\r\n",
        "    pyplot.imshow(np.array(features.iloc[i]).reshape(28,28),cmap='Greys')\r\n",
        "    pyplot.axis('off')\r\n",
        "    pyplot.show()"
      ],
      "execution_count": 10,
      "outputs": [
        {
          "output_type": "display_data",
          "data": {
            "image/png": "[encoded data removed]",
            "text/plain": [
              "<Figure size 432x288 with 1 Axes>"
            ]
          },
          "metadata": {
            "tags": [],
            "needs_background": "light"
          }
        },
        {
          "output_type": "display_data",
          "data": {
            "image/png": "[encoded data removed]",
            "text/plain": [
              "<Figure size 432x288 with 1 Axes>"
            ]
          },
          "metadata": {
            "tags": [],
            "needs_background": "light"
          }
        }
      ]
    },
    {
      "cell_type": "code",
      "metadata": {
        "id": "77VhQZfiZbhq"
      },
      "source": [
        "labels=np.asarray(labels)"
      ],
      "execution_count": 11,
      "outputs": []
    },
    {
      "cell_type": "markdown",
      "metadata": {
        "id": "yGTtRskVaU-U"
      },
      "source": [
        "**One Hot encoding image labels**"
      ]
    },
    {
      "cell_type": "code",
      "metadata": {
        "id": "Lj-qtefWaSrK"
      },
      "source": [
        "lr = np.arange(10)\r\n",
        "one_hot=np.zeros((len(labels),10))\r\n",
        "for i in range(len(labels)):\r\n",
        "    one_hot[i,:]=(lr==labels[i]).astype(np.float)"
      ],
      "execution_count": 12,
      "outputs": []
    },
    {
      "cell_type": "markdown",
      "metadata": {
        "id": "Siw9ZLfF__st"
      },
      "source": [
        "**Utility functions**"
      ]
    },
    {
      "cell_type": "code",
      "metadata": {
        "id": "NktRsv1Pahvf"
      },
      "source": [
        "def sigmoid(a):\r\n",
        "    return 1/(1+np.exp(-a))\r\n",
        "\r\n",
        "def sigmgrad(a):\r\n",
        "    return sigmoid(a)*(1-sigmoid(a))\r\n",
        "\r\n",
        "def weight_initialize(inpt,outpt):\r\n",
        "    return np.random.normal(0,1,(inpt+1,outpt))\r\n",
        "\r\n",
        "\r\n",
        "def getgrad(x,y,theta1,theta2,regconst):\r\n",
        "    (n,m)=x.shape\r\n",
        "    a1=np.vstack((np.ones((1,m)),x))\r\n",
        "    z2=np.dot(theta1.T,a1)\r\n",
        "    a2=np.vstack((np.ones((1,m)),sigmoid(z2)))\r\n",
        "    a3=sigmoid(np.dot(theta2.T,a2))\r\n",
        "    \r\n",
        "    theta1t=theta1[1:,:]\r\n",
        "    theta2t=theta2[1:,:]\r\n",
        "    \r\n",
        "    cost=np.sum(np.sum( -y*np.log(a3) - (1-y)*np.log(1-a3) ))/m + (regconst/(2*m))*(sum(sum(theta1t*theta1t))+sum(sum(theta2t*theta2t)))\r\n",
        "    \r\n",
        "    #backpropagation\r\n",
        "    \r\n",
        "    d3=a3-y\r\n",
        "    d2=np.dot(theta2t,d3)*sigmoid(z2)\r\n",
        "    err2=np.dot(d3,a2.T)\r\n",
        "    err1=np.dot(d2,a1.T)\r\n",
        "    \r\n",
        "    theta2Grad= err2.T/m  +(regconst/m)*np.vstack((np.zeros((1,l2)),theta2t))\r\n",
        "    theta1Grad=err1.T/m  +(regconst/m)*np.vstack((np.zeros((1,l1)),theta1t))\r\n",
        "    \r\n",
        "    return [theta1Grad, theta2Grad,cost]\r\n",
        "\r\n",
        "\r\n",
        "def gradDescent(X, y, theta1, theta2, regconst, num_iter, alpha):\r\n",
        "    # theta1 :- Layer 1 weights\r\n",
        "    # theta2 :- layer 2 weights \r\n",
        "    # regconst :- regularization coefficient\r\n",
        "    # alpha :- Learning rate\r\n",
        "    # num_iter:- Number of training iteration \r\n",
        "    cost = np.zeros(num_iter)\r\n",
        "    for i in range(0, num_iter):\r\n",
        "        [theta1Grad, theta2Grad, cost[i]] = getgrad(X, y, theta1, theta2, regconst)\r\n",
        "        theta1 = theta1 - alpha*theta1Grad\r\n",
        "        theta2 = theta2 - alpha*theta2Grad\r\n",
        "        \r\n",
        "        # printing the current status\r\n",
        "        if (i+1)%(num_iter*0.1) == 0:\r\n",
        "            per = float(i+1)/num_iter*100\r\n",
        "            print(str(per)+\"% Completed, Cost:\"+str(cost[i]))\r\n",
        "    return [theta1, theta2, cost]\r\n",
        "\r\n",
        "def MgradDescent(X, y, theta1, theta2, regconst, num_iter, alpha, mu):\r\n",
        "    # theta1 :- Layer 1 weights\r\n",
        "    # theta2 :- layer 2 weights \r\n",
        "    # regconst :- regularization coefficient\r\n",
        "    # alpha :- Learning rate\r\n",
        "    # num_iter:- Number of training iteration\r\n",
        "    #mu :- momentum coefficient\r\n",
        "    cost = np.zeros(num_iter)\r\n",
        "    v1 = 0\r\n",
        "    v2 = 0\r\n",
        "    for i in range(0, num_iter):\r\n",
        "        [theta1Grad, theta2Grad, cost[i]] = getgrad(X, y, theta1, theta2, regconst)\r\n",
        "        v1 = mu*v1 +  (1-mu)*alpha*theta1Grad\r\n",
        "        v2 = mu*v2 +  (1-mu)*alpha*theta2Grad\r\n",
        "        theta1 -= v1*alpha\r\n",
        "        theta2 -= v2*alpha\r\n",
        "        # printing the current status\r\n",
        "        if (i+1)%(num_iter*0.1) == 0:\r\n",
        "            per = float(i+1)/num_iter*100\r\n",
        "            print(str(per)+\"% Completed, Cost:\"+str(cost[i]))\r\n",
        "    return [theta1, theta2, cost]\r\n",
        "\r\n",
        "\r\n",
        "def predict(X, theta1, theta2):\t\r\n",
        "    (n, m) = X.shape\r\n",
        "    a1 = np.vstack((np.ones((1,m)),X))\r\n",
        "    z2 = np.dot(theta1.T, a1)\r\n",
        "    a2 = np.vstack((np.ones((1,m)),sigmoid(z2)))\r\n",
        "    a3 = sigmoid(np.dot(theta2.T, a2))\r\n",
        "    \r\n",
        "    return np.argmax(a3)\r\n",
        "\r\n"
      ],
      "execution_count": 33,
      "outputs": []
    },
    {
      "cell_type": "markdown",
      "metadata": {
        "id": "9zWi5OLAAGQn"
      },
      "source": [
        "**Fixing Layer Size**"
      ]
    },
    {
      "cell_type": "code",
      "metadata": {
        "id": "F7CKym5Lavo7"
      },
      "source": [
        "l1=50  # number of nodes in hidden layer\r\n",
        "l2=10  # number of nodes in output layer"
      ],
      "execution_count": 15,
      "outputs": []
    },
    {
      "cell_type": "code",
      "metadata": {
        "id": "AW1yc1ClbVix"
      },
      "source": [
        "features=features.T\r\n",
        "one_hot=one_hot.T\r\n",
        "\r\n",
        "(n, m) = features.shape"
      ],
      "execution_count": 16,
      "outputs": []
    },
    {
      "cell_type": "markdown",
      "metadata": {
        "id": "Xm8UhzNebi9A"
      },
      "source": [
        "**Random weight Initialization**"
      ]
    },
    {
      "cell_type": "code",
      "metadata": {
        "id": "WFk8cdxsbfIc"
      },
      "source": [
        "initial_theta1 =  weight_initialize(n, l1)\r\n",
        "initial_theta2 = weight_initialize(l1, l2)"
      ],
      "execution_count": 17,
      "outputs": []
    },
    {
      "cell_type": "markdown",
      "metadata": {
        "id": "AsZmw9uFANeR"
      },
      "source": [
        "**Training**"
      ]
    },
    {
      "cell_type": "code",
      "metadata": {
        "colab": {
          "base_uri": "https://localhost:8080/"
        },
        "id": "I6Y2HA9wbZiX",
        "outputId": "3904d96a-8fda-49c7-c679-fe8566d67902"
      },
      "source": [
        "#out = gradDescent(features,one_hot, initial_theta1, initial_theta2, 0.3, 100,0.01 )\r\n",
        "out = MgradDescent(features,one_hot, initial_theta1, initial_theta2, 0.2,2000, 0.05, 0.9)"
      ],
      "execution_count": 46,
      "outputs": [
        {
          "output_type": "stream",
          "text": [
            "10.0% Completed, Cost:5.117135920913186\n",
            "20.0% Completed, Cost:4.32341904847583\n",
            "30.0% Completed, Cost:3.889428071720971\n",
            "40.0% Completed, Cost:3.59597729120748\n",
            "50.0% Completed, Cost:3.380469067860108\n",
            "60.0% Completed, Cost:3.213322080033151\n",
            "70.0% Completed, Cost:3.078174244952019\n",
            "80.0% Completed, Cost:2.965886722002207\n",
            "90.0% Completed, Cost:2.870812853620638\n",
            "100.0% Completed, Cost:2.7890978765463075\n"
          ],
          "name": "stdout"
        }
      ]
    },
    {
      "cell_type": "code",
      "metadata": {
        "id": "hhR6mCjSi_jR"
      },
      "source": [
        "[theta1, theta2, cost]= out"
      ],
      "execution_count": 47,
      "outputs": []
    },
    {
      "cell_type": "markdown",
      "metadata": {
        "id": "x8sbGvVWARO2"
      },
      "source": [
        "**Checking Model on test data**"
      ]
    },
    {
      "cell_type": "code",
      "metadata": {
        "colab": {
          "base_uri": "https://localhost:8080/",
          "height": 547
        },
        "id": "xqTO38a1hwWQ",
        "outputId": "77a59660-4ca6-4d45-cbb3-6c9efac91af6"
      },
      "source": [
        "for i in range(2):\r\n",
        "    pyplot.imshow(np.array(test.iloc[i]).reshape(28,28),cmap='Greys')\r\n",
        "    pyplot.axis('off')\r\n",
        "    pyplot.show()\r\n",
        "    print(predict(np.expand_dims(np.array(test.iloc[i]),axis=0).T, theta1, theta2))"
      ],
      "execution_count": 52,
      "outputs": [
        {
          "output_type": "display_data",
          "data": {
            "image/png": "[encoded data removed]",
            "text/plain": [
              "<Figure size 432x288 with 1 Axes>"
            ]
          },
          "metadata": {
            "tags": [],
            "needs_background": "light"
          }
        },
        {
          "output_type": "stream",
          "text": [
            "2\n"
          ],
          "name": "stdout"
        },
        {
          "output_type": "stream",
          "text": [
            "/usr/local/lib/python3.6/dist-packages/ipykernel_launcher.py:2: RuntimeWarning: overflow encountered in exp\n",
            "  \n"
          ],
          "name": "stderr"
        },
        {
          "output_type": "display_data",
          "data": {
            "image/png": "[encoded data removed]",
            "text/plain": [
              "<Figure size 432x288 with 1 Axes>"
            ]
          },
          "metadata": {
            "tags": [],
            "needs_background": "light"
          }
        },
        {
          "output_type": "stream",
          "text": [
            "0\n"
          ],
          "name": "stdout"
        }
      ]
    }
  ]
}